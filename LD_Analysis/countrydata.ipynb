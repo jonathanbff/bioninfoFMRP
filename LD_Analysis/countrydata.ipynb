{
 "cells": [
  {
   "cell_type": "code",
   "execution_count": 2,
   "metadata": {},
   "outputs": [
    {
     "name": "stdout",
     "output_type": "stream",
     "text": [
      "Collecting pandas\n",
      "  Downloading pandas-1.5.2-cp38-cp38-manylinux_2_17_x86_64.manylinux2014_x86_64.whl (12.2 MB)\n",
      "\u001b[K     |████████████████████████████████| 12.2 MB 4.2 MB/s eta 0:00:01\n",
      "\u001b[?25hRequirement already satisfied: numpy>=1.20.3; python_version < \"3.10\" in /home/batman/.local/lib/python3.8/site-packages (from pandas) (1.22.3)\n",
      "Collecting pytz>=2020.1\n",
      "  Downloading pytz-2022.6-py2.py3-none-any.whl (498 kB)\n",
      "\u001b[K     |████████████████████████████████| 498 kB 2.9 MB/s eta 0:00:01\n",
      "\u001b[?25hRequirement already satisfied: python-dateutil>=2.8.1 in /home/batman/.local/lib/python3.8/site-packages (from pandas) (2.8.2)\n",
      "Requirement already satisfied: six>=1.5 in /usr/lib/python3/dist-packages (from python-dateutil>=2.8.1->pandas) (1.14.0)\n",
      "Installing collected packages: pytz, pandas\n",
      "Successfully installed pandas-1.5.2 pytz-2022.6\n"
     ]
    }
   ],
   "source": [
    "!pip install pandas"
   ]
  },
  {
   "cell_type": "code",
   "execution_count": 3,
   "metadata": {},
   "outputs": [],
   "source": [
    "import pandas as pd"
   ]
  },
  {
   "cell_type": "code",
   "execution_count": 5,
   "metadata": {},
   "outputs": [
    {
     "data": {
      "text/html": [
       "<div>\n",
       "<style scoped>\n",
       "    .dataframe tbody tr th:only-of-type {\n",
       "        vertical-align: middle;\n",
       "    }\n",
       "\n",
       "    .dataframe tbody tr th {\n",
       "        vertical-align: top;\n",
       "    }\n",
       "\n",
       "    .dataframe thead th {\n",
       "        text-align: right;\n",
       "    }\n",
       "</style>\n",
       "<table border=\"1\" class=\"dataframe\">\n",
       "  <thead>\n",
       "    <tr style=\"text-align: right;\">\n",
       "      <th></th>\n",
       "      <th>Genotype\\tCount\\tFrequency</th>\n",
       "    </tr>\n",
       "  </thead>\n",
       "  <tbody>\n",
       "    <tr>\n",
       "      <th>0</th>\n",
       "      <td>TTCGCCCCTGCCCTTGTTCCAACGCGTCGCTGGGGGCCAGGTGC\\t...</td>\n",
       "    </tr>\n",
       "    <tr>\n",
       "      <th>1</th>\n",
       "      <td>TTTGCTCCCGCTCTCACTCCAGCTCGTCGTTGGGGGCTAGGTGC\\t...</td>\n",
       "    </tr>\n",
       "    <tr>\n",
       "      <th>2</th>\n",
       "      <td>TTTGCTCCCGCTCTCACTCCAGCTCGTCGTTGGGGGXTAGXXXX\\t...</td>\n",
       "    </tr>\n",
       "    <tr>\n",
       "      <th>3</th>\n",
       "      <td>TTTGCTCCCGCTCTCACTCCAGCTCGTCGTTGGGGACTAGGTGC\\t...</td>\n",
       "    </tr>\n",
       "    <tr>\n",
       "      <th>4</th>\n",
       "      <td>TTTGCTCCCGCTCTCACTCCAGCTCGTCGTTGGGGGCTAGXXXX\\t...</td>\n",
       "    </tr>\n",
       "    <tr>\n",
       "      <th>...</th>\n",
       "      <td>...</td>\n",
       "    </tr>\n",
       "    <tr>\n",
       "      <th>170</th>\n",
       "      <td>TTTGCTCCCGCTCTCACTCCAGCTCGTCGTTGGGGGXTAGGTXC\\t...</td>\n",
       "    </tr>\n",
       "    <tr>\n",
       "      <th>171</th>\n",
       "      <td>TTTGCTCTCGCTCTCACTCCAGCTCGTCGTTGGGGGCTAGXXXX\\t...</td>\n",
       "    </tr>\n",
       "    <tr>\n",
       "      <th>172</th>\n",
       "      <td>TTTGCTCTCGCTCTCACTCCAGCTCGTCGTTGGGGGXTAGXXXX\\t...</td>\n",
       "    </tr>\n",
       "    <tr>\n",
       "      <th>173</th>\n",
       "      <td>TTCGCCCCTGCCCTTGTTTCAACGCGTCGCTGGGGGCCAGXXXX\\t...</td>\n",
       "    </tr>\n",
       "    <tr>\n",
       "      <th>174</th>\n",
       "      <td>ATCGCCTTTGCCCTCACCCCAATGCGCCCCTGGGGGXCGGXXXX\\t...</td>\n",
       "    </tr>\n",
       "  </tbody>\n",
       "</table>\n",
       "<p>175 rows × 1 columns</p>\n",
       "</div>"
      ],
      "text/plain": [
       "                            Genotype\\tCount\\tFrequency\n",
       "0    TTCGCCCCTGCCCTTGTTCCAACGCGTCGCTGGGGGCCAGGTGC\\t...\n",
       "1    TTTGCTCCCGCTCTCACTCCAGCTCGTCGTTGGGGGCTAGGTGC\\t...\n",
       "2    TTTGCTCCCGCTCTCACTCCAGCTCGTCGTTGGGGGXTAGXXXX\\t...\n",
       "3    TTTGCTCCCGCTCTCACTCCAGCTCGTCGTTGGGGACTAGGTGC\\t...\n",
       "4    TTTGCTCCCGCTCTCACTCCAGCTCGTCGTTGGGGGCTAGXXXX\\t...\n",
       "..                                                 ...\n",
       "170  TTTGCTCCCGCTCTCACTCCAGCTCGTCGTTGGGGGXTAGGTXC\\t...\n",
       "171  TTTGCTCTCGCTCTCACTCCAGCTCGTCGTTGGGGGCTAGXXXX\\t...\n",
       "172  TTTGCTCTCGCTCTCACTCCAGCTCGTCGTTGGGGGXTAGXXXX\\t...\n",
       "173  TTCGCCCCTGCCCTTGTTTCAACGCGTCGCTGGGGGCCAGXXXX\\t...\n",
       "174  ATCGCCTTTGCCCTCACCCCAATGCGCCCCTGGGGGXCGGXXXX\\t...\n",
       "\n",
       "[175 rows x 1 columns]"
      ]
     },
     "execution_count": 5,
     "metadata": {},
     "output_type": "execute_result"
    }
   ],
   "source": [
    "usagens = pd.read_csv(\"USA_GENOTYPES.txt\")\n",
    "usagens\n"
   ]
  }
 ],
 "metadata": {
  "kernelspec": {
   "display_name": "Python 3.8.10 64-bit",
   "language": "python",
   "name": "python3"
  },
  "language_info": {
   "codemirror_mode": {
    "name": "ipython",
    "version": 3
   },
   "file_extension": ".py",
   "mimetype": "text/x-python",
   "name": "python",
   "nbconvert_exporter": "python",
   "pygments_lexer": "ipython3",
   "version": "3.8.10"
  },
  "orig_nbformat": 4,
  "vscode": {
   "interpreter": {
    "hash": "916dbcbb3f70747c44a77c7bcd40155683ae19c65e1c03b4aa3499c5328201f1"
   }
  }
 },
 "nbformat": 4,
 "nbformat_minor": 2
}
